{
 "cells": [
  {
   "cell_type": "markdown",
   "metadata": {},
   "source": [
    "Problem Statement 1:\n",
    "    \n",
    "Is gender independent of education level? A random sample of 395 people were\n",
    "surveyed and each person was asked to report the highest education level they\n",
    "obtained. The data that resulted from the survey is summarized in the following table:\n",
    "High School Bachelors Masters Ph.d. Total\n",
    "Female 60 54 46 41 201\n",
    "Male 40 44 53 57 194\n",
    "Total 100 98 99 98 395\n",
    "Question: Are gender and education level dependent at 5% level of significance? In\n",
    "other words, given the data collected above, is there a relationship between the gender\n",
    "of an individual and the level of education that they have obtained?"
   ]
  },
  {
   "cell_type": "markdown",
   "metadata": {},
   "source": [
    "Solution: \n",
    "So, working this out, x2 = (60 − 50.886)2/50.886 + ⋯ + (57 − 48.132)2/48.132 = 8.006\n",
    "\n",
    "The critical value of x**2 with 3 degree of freedom is 7.815. Since 8.006 > 7.815, therefore we reject \n",
    "the null hypothesis and conclude that the education level depends on gender at a 5% level of significance.\n",
    "\n",
    "chi-sq = 8.006, DF = 3, P-Value = 0.046\n",
    "\n",
    "The Chi-square test of independence value calculated is 8.006, which is the same as we calculated above.\n",
    "The Chi-square test for independence is an important method for determining. if there is a relationship between \n",
    "variables where the chance that something falls into a particular category depends on whether the variable falls \n",
    "into another category comes into play. This relationship of independence / dependence is important to be able to\n",
    "understand and use."
   ]
  },
  {
   "cell_type": "code",
   "execution_count": null,
   "metadata": {},
   "outputs": [],
   "source": []
  },
  {
   "cell_type": "markdown",
   "metadata": {},
   "source": [
    "Problem Statement 2:\n",
    "    \n",
    "Using the following data, perform a oneway analysis of variance using α=.05. Write up\n",
    "the results in APA format.\n",
    "\n",
    "[Group1: 51, 45, 33, 45, 67]\n",
    "\n",
    "[Group2: 23, 43, 23, 43, 45]\n",
    "\n",
    "[Group3: 56, 76, 74, 87, 56]"
   ]
  },
  {
   "cell_type": "markdown",
   "metadata": {},
   "source": [
    "Solution:\n",
    "    \n",
    "Step 1: Calculate all the means\n",
    "Mean: 51.13\n",
    "    \n",
    "Step 2: Set up the Null and Alternate Hypothesis\n",
    "H0: μ1 = μ2 = μ3 Ha: μ1 ≠ μ2 ≠ μ3\n",
    "\n",
    "We also specify the as well as the rejection criteria. α = 0.05 Rejection criteria: K0.05 < F This means that if\n",
    "the critical value of F from tables is less than the calculated value of F, we reject the null hypothesis"
   ]
  },
  {
   "cell_type": "markdown",
   "metadata": {},
   "source": [
    "Step 3: Calculate the Sum of Squares(SS)\n",
    "The formula for sum of squares are given below\n",
    "\n",
    "SS(total) = SS(between) + SS(within)"
   ]
  },
  {
   "cell_type": "markdown",
   "metadata": {},
   "source": [
    "Step 4: Calculate the Degrees of Freedom(df)\n",
    "The degrees of freedom are calculated using the formula below.\n",
    "\n",
    "dftotal = n - 1 = 15 - 1 = 14\n",
    "\n",
    "dfwithin = n - k = 15 - 3 = 12\n",
    "\n",
    "dfbetween = k - 1 = 3 - 1 = 2\n",
    "\n",
    "Verify that dftotal = dfbetween + dfwithin"
   ]
  },
  {
   "cell_type": "markdown",
   "metadata": {},
   "source": [
    "Step 5: Calculate the Mean Squares(MS)\n",
    "The formula is given below for the mean squares between\n",
    "\n",
    "MS(Between) = SS(between) / df(between)\n",
    "\n",
    "MS(Between) = 3022/2 = 1511.47\n",
    "\n",
    "\n",
    "The formula for the mean squares within\n",
    "\n",
    "MS(Within) = SS(Within) / Df(within)\n",
    "\n",
    "MS(Within) = 1860/12 = 155.07"
   ]
  },
  {
   "cell_type": "markdown",
   "metadata": {},
   "source": [
    "Step 6: Calculate the F Statistic\n",
    "Then we go ahead to calculate the F statistic using MSB and MSW\n",
    "\n",
    "F = MS(Between)/MS(Within)\n",
    "\n",
    "F = 1511.47/155.07 = 9.75"
   ]
  },
  {
   "cell_type": "markdown",
   "metadata": {},
   "source": [
    "Step 7: Look up F from table and state your Conclusion\n",
    "Access table from here From the table of F distribution, the critical value of F for 0.05 significance and degrees of freedom of(df1 = 12 and df2 = 2) we have:\n",
    "\n",
    "F = 3.89"
   ]
  },
  {
   "cell_type": "code",
   "execution_count": null,
   "metadata": {},
   "outputs": [],
   "source": []
  },
  {
   "cell_type": "markdown",
   "metadata": {},
   "source": [
    "Problem Statement 3:\n",
    "    \n",
    "Calculate F Test for given 10, 20, 30, 40, 50 and 5,10,15, 20, 25.\n",
    "For 10, 20, 30, 40, 50"
   ]
  },
  {
   "cell_type": "markdown",
   "metadata": {},
   "source": [
    "Solution:\n",
    "\n",
    "F Test is generally defined as ratio of the variances of the given two set of values. \n",
    "First we calculate standard deviation and variation of the given set of values. "
   ]
  },
  {
   "cell_type": "markdown",
   "metadata": {},
   "source": [
    "Total Inputs (N) =(10,20,30,40,50). Total Inputs (N)=5.\n",
    "\n",
    "Mean (xm)= (x1+x1+x2...xn)/N \n",
    "\n",
    "Mean (xm)= 150/5 \n",
    "\n",
    "Means(xm)= 30 \n",
    "\n",
    "\n",
    "Standard Deviaion (SD)\n",
    "\n",
    "=sqrt(1/(N-1)*((x1-xm)2+(x2-xm)2+..+(xn-xm)2)) \n",
    "\n",
    "=sqrt(1/(5-1)((10-30)2+(20-30)2+(30-30)2+(40-30)2+(50-30)2)) \n",
    "\n",
    "=sqrt(1/4((-20)2+(-10)2+(0)2+(10)2+(20)2)) \n",
    "\n",
    "=sqrt(1/4((400)+(100)+(0)+(100)+(400))) \n",
    "\n",
    "=sqrt(250) \n",
    "\n",
    "=15.8114 \n",
    "\n",
    "\n",
    "Variance=SD2 Variance=15.81142 Variance=250\n",
    "\n",
    "\n",
    "\n",
    "\n",
    "Calculate Variance of second set For 5, 10,15,20,25:\n",
    "\n",
    "Total Inputs(N) =(5,10,15,20,25)\n",
    "\n",
    "Total Inputs(N)=5 \n",
    "\n",
    "Mean (xm)= (x1+x2+x3...xN)/N \n",
    "\n",
    "Mean (xm)= 75/5 \n",
    "\n",
    "Means (xm)= 15 \n",
    "\n",
    "SD=sqrt(1/(N-1)*((x1-xm)2+(x2-xm)2+..+(xn-xm)2)) \n",
    "\n",
    "=sqrt(1/(5-1)((5-15)2+(10-15)2+(15-15)2+(20-15)2+(25-15)2)) \n",
    "\n",
    "=sqrt(1/4((-10)2+(-5)2+(0)2+(5)2+(10)2)) \n",
    "\n",
    "=sqrt(1/4((100)+(25)+(0)+(25)+(100))) \n",
    "\n",
    "=sqrt(62.5) \n",
    "\n",
    "=7.9057 \n",
    "\n",
    "\n",
    "Variance=SD2 Variance=7.90572 Variance=62.5\n",
    "\n",
    "\n",
    "\n",
    "\n",
    "To calculate F Test:\n",
    "\n",
    "F Test = (variance of 10, 20,30,40,50) / (variance of 5, 10, 15, 20, 25) = 250/62.5 = 4.\n",
    "\n",
    "The F Test value is 4."
   ]
  }
 ],
 "metadata": {
  "kernelspec": {
   "display_name": "Python 3",
   "language": "python",
   "name": "python3"
  },
  "language_info": {
   "codemirror_mode": {
    "name": "ipython",
    "version": 3
   },
   "file_extension": ".py",
   "mimetype": "text/x-python",
   "name": "python",
   "nbconvert_exporter": "python",
   "pygments_lexer": "ipython3",
   "version": "3.6.4"
  }
 },
 "nbformat": 4,
 "nbformat_minor": 2
}
